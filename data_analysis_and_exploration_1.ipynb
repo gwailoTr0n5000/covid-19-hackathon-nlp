{
 "cells": [
  {
   "cell_type": "code",
   "execution_count": 1,
   "metadata": {},
   "outputs": [],
   "source": [
    "from __future__ import absolute_import, division, print_function, unicode_literals\n",
    "\n",
    "try:\n",
    "  # %tensorflow_version only exists in Colab.\n",
    "  %tensorflow_version 2.x\n",
    "except Exception:\n",
    "  pass\n",
    "import tensorflow as tf\n",
    "\n",
    "from imp import reload\n",
    "import numpy as np\n",
    "import matplotlib.pyplot as plt\n",
    "%matplotlib inline\n",
    "import IPython.display as ipd\n",
    "\n",
    "from tensorflow.keras import datasets, layers, models\n",
    "\n",
    "import textwrap\n",
    "import random\n",
    "import json\n",
    "\n",
    "from simpletransformers.classification import ClassificationModel\n",
    "import pandas as pd"
   ]
  },
  {
   "cell_type": "code",
   "execution_count": 3,
   "metadata": {},
   "outputs": [],
   "source": [
    "import os"
   ]
  },
  {
   "cell_type": "code",
   "execution_count": null,
   "metadata": {},
   "outputs": [],
   "source": []
  },
  {
   "cell_type": "code",
   "execution_count": null,
   "metadata": {},
   "outputs": [],
   "source": [
    "data_path = '../noncomm_use_subset/pmc_json/'"
   ]
  },
  {
   "cell_type": "code",
   "execution_count": null,
   "metadata": {},
   "outputs": [],
   "source": []
  },
  {
   "cell_type": "code",
   "execution_count": null,
   "metadata": {},
   "outputs": [],
   "source": [
    "# Load up files from a directory"
   ]
  },
  {
   "cell_type": "code",
   "execution_count": 17,
   "metadata": {},
   "outputs": [
    {
     "name": "stderr",
     "output_type": "stream",
     "text": [
      "IOPub data rate exceeded.\n",
      "The notebook server will temporarily stop sending output\n",
      "to the client in order to avoid crashing it.\n",
      "To change this limit, set the config variable\n",
      "`--NotebookApp.iopub_data_rate_limit`.\n",
      "\n",
      "Current values:\n",
      "NotebookApp.iopub_data_rate_limit=1000000.0 (bytes/sec)\n",
      "NotebookApp.rate_limit_window=3.0 (secs)\n",
      "\n"
     ]
    }
   ],
   "source": [
    "dir_path = '../noncomm_use_subset/pmc_json/'\n",
    "filename = 'PMC1616946.xml.json'\n",
    "\n",
    "print(dir_path + filename)\n",
    "\n",
    "\n",
    "for file in os.listdir(dir_path):\n",
    "    filepath = dir_path + filename\n",
    "    print(filepath)\n",
    "    with open(filepath, 'r') as infile:\n",
    "        res = infile.read()\n",
    "        print(res)\n",
    "    \n",
    "    \n",
    "            #df = pd.read_json(infile,\n",
    "            #                 lines=True,\n",
    "            #                 orient='columns')\n",
    "    #df.head()\n"
   ]
  },
  {
   "cell_type": "markdown",
   "metadata": {},
   "source": [
    "# Create a class object to represent papers/articles with contained methods"
   ]
  },
  {
   "cell_type": "code",
   "execution_count": null,
   "metadata": {},
   "outputs": [],
   "source": [
    "#######################################################################\n",
    "# Class method for representing Article\n",
    "#######################################################################\n",
    "\n",
    "# Article class encapsulates loading, displaying, and simple helper operations \n",
    "# e.g. return text or bag of words representation\n",
    "class Article:\n",
    "    # Initialize with key article fields from JSON representation\n",
    "    # paper_id, title, authors, abstract, body_text (should preserve section type)\n",
    "    def __init__(self, json_input):#, label_map):\n",
    "        \n",
    "        # Extract\n",
    "        self.paperID=json_object['paper_id'] #Paper ID\n",
    "        self.abstract=''\n",
    "        self.body_text=''\n",
    "\n",
    "    # \n",
    "    def get_all_text(self):\n",
    "        return self.card + ' ' + self.answer\n",
    "    \n",
    "    \n",
    "    def get_bow(self, stopwords=[]):\n",
    "        return self.card + ' ' + self.answer\n",
    "    \n",
    "    # Returns the spokenTurns with role/speaker labeling (script format)\n",
    "    def print_flashfact(self):\n",
    "        print('ID: '+self.cardID+\n",
    "              '\\n\\tSection: '+self.section+\n",
    "              '\\n\\tSubsection: '+self.subsection+\n",
    "              '\\n\\tYear: '+self.year+\n",
    "              '\\n\\tquestion: '+self.card+\n",
    "              '\\n\\tanswer: '+self.answer\n",
    "        )\n",
    "        return\n",
    "    \n",
    "    # Add methods for facilitating ML inference"
   ]
  },
  {
   "cell_type": "code",
   "execution_count": null,
   "metadata": {},
   "outputs": [],
   "source": []
  },
  {
   "cell_type": "code",
   "execution_count": null,
   "metadata": {},
   "outputs": [],
   "source": []
  },
  {
   "cell_type": "code",
   "execution_count": null,
   "metadata": {},
   "outputs": [],
   "source": []
  },
  {
   "cell_type": "code",
   "execution_count": null,
   "metadata": {},
   "outputs": [],
   "source": []
  },
  {
   "cell_type": "code",
   "execution_count": null,
   "metadata": {},
   "outputs": [],
   "source": []
  },
  {
   "cell_type": "code",
   "execution_count": null,
   "metadata": {},
   "outputs": [],
   "source": []
  }
 ],
 "metadata": {
  "kernelspec": {
   "display_name": "Python 3",
   "language": "python",
   "name": "python3"
  },
  "language_info": {
   "codemirror_mode": {
    "name": "ipython",
    "version": 3
   },
   "file_extension": ".py",
   "mimetype": "text/x-python",
   "name": "python",
   "nbconvert_exporter": "python",
   "pygments_lexer": "ipython3",
   "version": "3.6.7"
  }
 },
 "nbformat": 4,
 "nbformat_minor": 2
}
